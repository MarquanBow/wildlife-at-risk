{
 "cells": [
  {
   "cell_type": "code",
   "execution_count": 4,
   "id": "f628da01",
   "metadata": {},
   "outputs": [
    {
     "name": "stdout",
     "output_type": "stream",
     "text": [
      "              common_name              scientific_name\n",
      "57     Domesticated Camel           Camelus bactrianus\n",
      "520      Greater Flamingo        Phoenicopterus roseus\n",
      "1003              Heather             Calluna vulgaris\n",
      "1004    Common Spleenwort        Asplenium trichomanes\n",
      "1005            Liverleaf             Hepatica nobilis\n",
      "...                   ...                          ...\n",
      "49764        Lilac Beauty            Apeira syringaria\n",
      "49765        Rosy Footman         Miltochrista miniata\n",
      "49767          Rose Plume  Cnaemidophorus rhododactyla\n",
      "49768         Lackey Moth          Malacosoma neustria\n",
      "49785  Eurasian Chaffinch            Fringilla coelebs\n",
      "\n",
      "[1536 rows x 2 columns]\n"
     ]
    }
   ],
   "source": [
    "import pandas as pd\n",
    "\n",
    "df = pd.read_csv(\"data/gbif_threatened_species.csv\")\n",
    "print(df[[\"common_name\", \"scientific_name\"]].dropna())\n"
   ]
  }
 ],
 "metadata": {
  "kernelspec": {
   "display_name": "Python 3",
   "language": "python",
   "name": "python3"
  },
  "language_info": {
   "codemirror_mode": {
    "name": "ipython",
    "version": 3
   },
   "file_extension": ".py",
   "mimetype": "text/x-python",
   "name": "python",
   "nbconvert_exporter": "python",
   "pygments_lexer": "ipython3",
   "version": "3.9.6"
  }
 },
 "nbformat": 4,
 "nbformat_minor": 5
}
